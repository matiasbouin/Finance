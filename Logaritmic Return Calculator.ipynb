{
 "cells": [
  {
   "cell_type": "markdown",
   "metadata": {},
   "source": [
    "## Logarithmic Returns"
   ]
  },
  {
   "cell_type": "code",
   "execution_count": 2,
   "metadata": {},
   "outputs": [
    {
     "data": {
      "text/html": [
       "<div>\n",
       "<style scoped>\n",
       "    .dataframe tbody tr th:only-of-type {\n",
       "        vertical-align: middle;\n",
       "    }\n",
       "\n",
       "    .dataframe tbody tr th {\n",
       "        vertical-align: top;\n",
       "    }\n",
       "\n",
       "    .dataframe thead th {\n",
       "        text-align: right;\n",
       "    }\n",
       "</style>\n",
       "<table border=\"1\" class=\"dataframe\">\n",
       "  <thead>\n",
       "    <tr style=\"text-align: right;\">\n",
       "      <th></th>\n",
       "      <th>High</th>\n",
       "      <th>Low</th>\n",
       "      <th>Open</th>\n",
       "      <th>Close</th>\n",
       "      <th>Volume</th>\n",
       "      <th>Adj Close</th>\n",
       "    </tr>\n",
       "    <tr>\n",
       "      <th>Date</th>\n",
       "      <th></th>\n",
       "      <th></th>\n",
       "      <th></th>\n",
       "      <th></th>\n",
       "      <th></th>\n",
       "      <th></th>\n",
       "    </tr>\n",
       "  </thead>\n",
       "  <tbody>\n",
       "    <tr>\n",
       "      <th>2019-05-23</th>\n",
       "      <td>126.290001</td>\n",
       "      <td>124.739998</td>\n",
       "      <td>126.199997</td>\n",
       "      <td>126.180000</td>\n",
       "      <td>23603800.0</td>\n",
       "      <td>126.180000</td>\n",
       "    </tr>\n",
       "    <tr>\n",
       "      <th>2019-05-24</th>\n",
       "      <td>127.419998</td>\n",
       "      <td>125.970001</td>\n",
       "      <td>126.910004</td>\n",
       "      <td>126.239998</td>\n",
       "      <td>14123400.0</td>\n",
       "      <td>126.239998</td>\n",
       "    </tr>\n",
       "    <tr>\n",
       "      <th>2019-05-28</th>\n",
       "      <td>128.000000</td>\n",
       "      <td>126.050003</td>\n",
       "      <td>126.980003</td>\n",
       "      <td>126.160004</td>\n",
       "      <td>23128400.0</td>\n",
       "      <td>126.160004</td>\n",
       "    </tr>\n",
       "    <tr>\n",
       "      <th>2019-05-29</th>\n",
       "      <td>125.389999</td>\n",
       "      <td>124.040001</td>\n",
       "      <td>125.379997</td>\n",
       "      <td>124.940002</td>\n",
       "      <td>22763100.0</td>\n",
       "      <td>124.940002</td>\n",
       "    </tr>\n",
       "    <tr>\n",
       "      <th>2019-05-30</th>\n",
       "      <td>125.760002</td>\n",
       "      <td>124.779999</td>\n",
       "      <td>125.260002</td>\n",
       "      <td>125.730003</td>\n",
       "      <td>16804200.0</td>\n",
       "      <td>125.730003</td>\n",
       "    </tr>\n",
       "  </tbody>\n",
       "</table>\n",
       "</div>"
      ],
      "text/plain": [
       "                  High         Low        Open       Close      Volume  \\\n",
       "Date                                                                     \n",
       "2019-05-23  126.290001  124.739998  126.199997  126.180000  23603800.0   \n",
       "2019-05-24  127.419998  125.970001  126.910004  126.239998  14123400.0   \n",
       "2019-05-28  128.000000  126.050003  126.980003  126.160004  23128400.0   \n",
       "2019-05-29  125.389999  124.040001  125.379997  124.940002  22763100.0   \n",
       "2019-05-30  125.760002  124.779999  125.260002  125.730003  16804200.0   \n",
       "\n",
       "             Adj Close  \n",
       "Date                    \n",
       "2019-05-23  126.180000  \n",
       "2019-05-24  126.239998  \n",
       "2019-05-28  126.160004  \n",
       "2019-05-29  124.940002  \n",
       "2019-05-30  125.730003  "
      ]
     },
     "execution_count": 2,
     "metadata": {},
     "output_type": "execute_result"
    }
   ],
   "source": [
    "import numpy as np\n",
    "from pandas_datareader import data as wb\n",
    "import matplotlib.pyplot as plt\n",
    "MSFT = wb.DataReader('MSFT', data_source='yahoo', start='2000-1-1')\n",
    "MSFT.tail()"
   ]
  },
  {
   "cell_type": "markdown",
   "metadata": {},
   "source": [
    "### Log Returns"
   ]
  },
  {
   "cell_type": "markdown",
   "metadata": {},
   "source": [
    "$$\n",
    "ln(\\frac{P_t}{P_{t-1}})\n",
    "$$"
   ]
  },
  {
   "cell_type": "markdown",
   "metadata": {},
   "source": [
    "Calculate the Log returns for Microsoft."
   ]
  },
  {
   "cell_type": "code",
   "execution_count": 5,
   "metadata": {},
   "outputs": [
    {
     "data": {
      "text/plain": [
       "Date\n",
       "2000-01-03         NaN\n",
       "2000-01-04   -0.034364\n",
       "2000-01-05    0.010489\n",
       "2000-01-06   -0.034072\n",
       "2000-01-07    0.012983\n",
       "Name: Adj Close, dtype: float64"
      ]
     },
     "execution_count": 5,
     "metadata": {},
     "output_type": "execute_result"
    }
   ],
   "source": [
    "#Calculating logaritmic rates of return and creating a new table with obtained values\n",
    "MSFTLOG = np.log(MSFT['Adj Close']/MSFT['Adj Close'].shift(1))\n",
    "MSFTLOG.head()"
   ]
  },
  {
   "cell_type": "markdown",
   "metadata": {},
   "source": [
    "Plot the results on a graph."
   ]
  },
  {
   "cell_type": "code",
   "execution_count": 10,
   "metadata": {},
   "outputs": [
    {
     "data": {
      "text/plain": [
       "<matplotlib.axes._subplots.AxesSubplot at 0x588f5f8>"
      ]
     },
     "execution_count": 10,
     "metadata": {},
     "output_type": "execute_result"
    },
    {
     "data": {
      "image/png": "[encoded data removed]",
      "text/plain": [
       "<Figure size 576x360 with 1 Axes>"
      ]
     },
     "metadata": {
      "needs_background": "light"
     },
     "output_type": "display_data"
    }
   ],
   "source": [
    "MSFTLOG.plot(figsize=(8,5))"
   ]
  },
  {
   "cell_type": "markdown",
   "metadata": {},
   "source": [
    "Estimate the daily and the annual mean of the obtained log returns."
   ]
  },
  {
   "cell_type": "code",
   "execution_count": 11,
   "metadata": {},
   "outputs": [
    {
     "data": {
      "text/plain": [
       "0.0002248350966007585"
      ]
     },
     "execution_count": 11,
     "metadata": {},
     "output_type": "execute_result"
    }
   ],
   "source": [
    "DAILYMSFTLOG = MSFTLOG.mean()\n",
    "DAILYMSFTLOG"
   ]
  },
  {
   "cell_type": "code",
   "execution_count": 13,
   "metadata": {},
   "outputs": [
    {
     "data": {
      "text/plain": [
       "0.05620877415018963"
      ]
     },
     "execution_count": 13,
     "metadata": {},
     "output_type": "execute_result"
    }
   ],
   "source": [
    "ANUALLYMSFTLOG = MSFTLOG.mean() * 250\n",
    "ANUALLYMSFTLOG"
   ]
  },
  {
   "cell_type": "markdown",
   "metadata": {},
   "source": [
    "Print the result in a presentable form."
   ]
  },
  {
   "cell_type": "code",
   "execution_count": 14,
   "metadata": {},
   "outputs": [
    {
     "data": {
      "text/plain": [
       "'5.621%'"
      ]
     },
     "execution_count": 14,
     "metadata": {},
     "output_type": "execute_result"
    }
   ],
   "source": [
    "AMLR = str(round(ANUALLYMSFTLOG, 5) * 100) + \"%\"\n",
    "AMLR"
   ]
  },
  {
   "cell_type": "markdown",
   "metadata": {},
   "source": [
    "****"
   ]
  },
  {
   "cell_type": "markdown",
   "metadata": {},
   "source": [
    "Repeat this exercise for any stock of interest to you. :)"
   ]
  }
 ],
 "metadata": {
  "kernelspec": {
   "display_name": "Python 3",
   "language": "python",
   "name": "python3"
  },
  "language_info": {
   "codemirror_mode": {
    "name": "ipython",
    "version": 3
   },
   "file_extension": ".py",
   "mimetype": "text/x-python",
   "name": "python",
   "nbconvert_exporter": "python",
   "pygments_lexer": "ipython3",
   "version": "3.7.1"
  }
 },
 "nbformat": 4,
 "nbformat_minor": 2
}
