{
 "cells": [
  {
   "cell_type": "markdown",
   "metadata": {},
   "source": [
    "## Calculating the Return of a Portfolio of Securities"
   ]
  },
  {
   "cell_type": "code",
   "execution_count": 1,
   "metadata": {},
   "outputs": [],
   "source": [
    "#Importing needed libraries and extracting our data for our portfolio\n",
    "\n",
    "import numpy as np\n",
    "import pandas as pd\n",
    "import matplotlib.pyplot as plt\n",
    "from pandas_datareader import data as wb"
   ]
  },
  {
   "cell_type": "code",
   "execution_count": 15,
   "metadata": {},
   "outputs": [
    {
     "data": {
      "text/html": [
       "<div>\n",
       "<style scoped>\n",
       "    .dataframe tbody tr th:only-of-type {\n",
       "        vertical-align: middle;\n",
       "    }\n",
       "\n",
       "    .dataframe tbody tr th {\n",
       "        vertical-align: top;\n",
       "    }\n",
       "\n",
       "    .dataframe thead th {\n",
       "        text-align: right;\n",
       "    }\n",
       "</style>\n",
       "<table border=\"1\" class=\"dataframe\">\n",
       "  <thead>\n",
       "    <tr style=\"text-align: right;\">\n",
       "      <th></th>\n",
       "      <th>BP</th>\n",
       "      <th>F</th>\n",
       "      <th>AMZN</th>\n",
       "      <th>AAPL</th>\n",
       "      <th>MCD</th>\n",
       "    </tr>\n",
       "    <tr>\n",
       "      <th>Date</th>\n",
       "      <th></th>\n",
       "      <th></th>\n",
       "      <th></th>\n",
       "      <th></th>\n",
       "      <th></th>\n",
       "    </tr>\n",
       "  </thead>\n",
       "  <tbody>\n",
       "    <tr>\n",
       "      <th>2019-05-30</th>\n",
       "      <td>41.029999</td>\n",
       "      <td>9.74</td>\n",
       "      <td>1816.319946</td>\n",
       "      <td>178.300003</td>\n",
       "      <td>198.080002</td>\n",
       "    </tr>\n",
       "    <tr>\n",
       "      <th>2019-05-31</th>\n",
       "      <td>40.720001</td>\n",
       "      <td>9.52</td>\n",
       "      <td>1775.069946</td>\n",
       "      <td>175.070007</td>\n",
       "      <td>198.270004</td>\n",
       "    </tr>\n",
       "    <tr>\n",
       "      <th>2019-06-03</th>\n",
       "      <td>41.040001</td>\n",
       "      <td>9.61</td>\n",
       "      <td>1692.689941</td>\n",
       "      <td>173.300003</td>\n",
       "      <td>198.779999</td>\n",
       "    </tr>\n",
       "    <tr>\n",
       "      <th>2019-06-04</th>\n",
       "      <td>41.360001</td>\n",
       "      <td>9.92</td>\n",
       "      <td>1729.560059</td>\n",
       "      <td>179.639999</td>\n",
       "      <td>199.630005</td>\n",
       "    </tr>\n",
       "    <tr>\n",
       "      <th>2019-06-05</th>\n",
       "      <td>41.040001</td>\n",
       "      <td>9.78</td>\n",
       "      <td>1738.500000</td>\n",
       "      <td>182.539993</td>\n",
       "      <td>200.130005</td>\n",
       "    </tr>\n",
       "  </tbody>\n",
       "</table>\n",
       "</div>"
      ],
      "text/plain": [
       "                   BP     F         AMZN        AAPL         MCD\n",
       "Date                                                            \n",
       "2019-05-30  41.029999  9.74  1816.319946  178.300003  198.080002\n",
       "2019-05-31  40.720001  9.52  1775.069946  175.070007  198.270004\n",
       "2019-06-03  41.040001  9.61  1692.689941  173.300003  198.779999\n",
       "2019-06-04  41.360001  9.92  1729.560059  179.639999  199.630005\n",
       "2019-06-05  41.040001  9.78  1738.500000  182.539993  200.130005"
      ]
     },
     "execution_count": 15,
     "metadata": {},
     "output_type": "execute_result"
    }
   ],
   "source": [
    "#In this case, I'm creating a portfolio composed by 5 different stocks, and every one of them has the same weight: 1/5\n",
    "\n",
    "tickers = ['BP', 'F', 'AMZN', 'AAPL', 'MCD']\n",
    "portfolio_data = pd.DataFrame()\n",
    "for t in tickers:\n",
    "    portfolio_data[t] = wb.DataReader(t, 'yahoo', start = ('2000/1/1'))['Adj Close']\n",
    "    \n",
    "#Checking if information is complete and accurate    \n",
    "    \n",
    "portfolio_data.tail()    "
   ]
  },
  {
   "cell_type": "code",
   "execution_count": 19,
   "metadata": {},
   "outputs": [
    {
     "data": {
      "text/html": [
       "<div>\n",
       "<style scoped>\n",
       "    .dataframe tbody tr th:only-of-type {\n",
       "        vertical-align: middle;\n",
       "    }\n",
       "\n",
       "    .dataframe tbody tr th {\n",
       "        vertical-align: top;\n",
       "    }\n",
       "\n",
       "    .dataframe thead th {\n",
       "        text-align: right;\n",
       "    }\n",
       "</style>\n",
       "<table border=\"1\" class=\"dataframe\">\n",
       "  <thead>\n",
       "    <tr style=\"text-align: right;\">\n",
       "      <th></th>\n",
       "      <th>BP</th>\n",
       "      <th>F</th>\n",
       "      <th>AMZN</th>\n",
       "      <th>AAPL</th>\n",
       "      <th>MCD</th>\n",
       "    </tr>\n",
       "    <tr>\n",
       "      <th>Date</th>\n",
       "      <th></th>\n",
       "      <th></th>\n",
       "      <th></th>\n",
       "      <th></th>\n",
       "      <th></th>\n",
       "    </tr>\n",
       "  </thead>\n",
       "  <tbody>\n",
       "    <tr>\n",
       "      <th>2000-01-03</th>\n",
       "      <td>24.838348</td>\n",
       "      <td>15.798207</td>\n",
       "      <td>89.3750</td>\n",
       "      <td>2.655498</td>\n",
       "      <td>24.247896</td>\n",
       "    </tr>\n",
       "    <tr>\n",
       "      <th>2000-01-04</th>\n",
       "      <td>24.706383</td>\n",
       "      <td>15.270343</td>\n",
       "      <td>81.9375</td>\n",
       "      <td>2.431611</td>\n",
       "      <td>23.750698</td>\n",
       "    </tr>\n",
       "    <tr>\n",
       "      <th>2000-01-05</th>\n",
       "      <td>25.551050</td>\n",
       "      <td>15.326898</td>\n",
       "      <td>69.7500</td>\n",
       "      <td>2.467196</td>\n",
       "      <td>24.133152</td>\n",
       "    </tr>\n",
       "    <tr>\n",
       "      <th>2000-01-06</th>\n",
       "      <td>25.603836</td>\n",
       "      <td>15.345757</td>\n",
       "      <td>65.5625</td>\n",
       "      <td>2.253689</td>\n",
       "      <td>23.788942</td>\n",
       "    </tr>\n",
       "    <tr>\n",
       "      <th>2000-01-07</th>\n",
       "      <td>25.128702</td>\n",
       "      <td>16.476889</td>\n",
       "      <td>69.5625</td>\n",
       "      <td>2.360442</td>\n",
       "      <td>24.400881</td>\n",
       "    </tr>\n",
       "  </tbody>\n",
       "</table>\n",
       "</div>"
      ],
      "text/plain": [
       "                   BP          F     AMZN      AAPL        MCD\n",
       "Date                                                          \n",
       "2000-01-03  24.838348  15.798207  89.3750  2.655498  24.247896\n",
       "2000-01-04  24.706383  15.270343  81.9375  2.431611  23.750698\n",
       "2000-01-05  25.551050  15.326898  69.7500  2.467196  24.133152\n",
       "2000-01-06  25.603836  15.345757  65.5625  2.253689  23.788942\n",
       "2000-01-07  25.128702  16.476889  69.5625  2.360442  24.400881"
      ]
     },
     "execution_count": 19,
     "metadata": {},
     "output_type": "execute_result"
    }
   ],
   "source": [
    "portfolio_data.head()"
   ]
  },
  {
   "cell_type": "code",
   "execution_count": 17,
   "metadata": {},
   "outputs": [
    {
     "name": "stdout",
     "output_type": "stream",
     "text": [
      "<class 'pandas.core.frame.DataFrame'>\n",
      "DatetimeIndex: 4886 entries, 2000-01-03 to 2019-06-05\n",
      "Data columns (total 5 columns):\n",
      "BP      4886 non-null float64\n",
      "F       4886 non-null float64\n",
      "AMZN    4886 non-null float64\n",
      "AAPL    4886 non-null float64\n",
      "MCD     4886 non-null float64\n",
      "dtypes: float64(5)\n",
      "memory usage: 229.0 KB\n"
     ]
    }
   ],
   "source": [
    "portfolio_data.info()"
   ]
  },
  {
   "cell_type": "code",
   "execution_count": 20,
   "metadata": {},
   "outputs": [
    {
     "data": {
      "image/png": "[encoded data removed]",
      "text/plain": [
       "<Figure size 1080x432 with 1 Axes>"
      ]
     },
     "metadata": {
      "needs_background": "light"
     },
     "output_type": "display_data"
    }
   ],
   "source": [
    "#Normalizing to 100 and plotting data on a graph\n",
    "(portfolio_data / portfolio_data.iloc[0] * 100).plot(figsize = (15,6));"
   ]
  },
  {
   "cell_type": "markdown",
   "metadata": {},
   "source": [
    "### Calculating the Return of a Portfolio of Securities"
   ]
  },
  {
   "cell_type": "code",
   "execution_count": 22,
   "metadata": {},
   "outputs": [
    {
     "data": {
      "text/html": [
       "<div>\n",
       "<style scoped>\n",
       "    .dataframe tbody tr th:only-of-type {\n",
       "        vertical-align: middle;\n",
       "    }\n",
       "\n",
       "    .dataframe tbody tr th {\n",
       "        vertical-align: top;\n",
       "    }\n",
       "\n",
       "    .dataframe thead th {\n",
       "        text-align: right;\n",
       "    }\n",
       "</style>\n",
       "<table border=\"1\" class=\"dataframe\">\n",
       "  <thead>\n",
       "    <tr style=\"text-align: right;\">\n",
       "      <th></th>\n",
       "      <th>BP</th>\n",
       "      <th>F</th>\n",
       "      <th>AMZN</th>\n",
       "      <th>AAPL</th>\n",
       "      <th>MCD</th>\n",
       "    </tr>\n",
       "    <tr>\n",
       "      <th>Date</th>\n",
       "      <th></th>\n",
       "      <th></th>\n",
       "      <th></th>\n",
       "      <th></th>\n",
       "      <th></th>\n",
       "    </tr>\n",
       "  </thead>\n",
       "  <tbody>\n",
       "    <tr>\n",
       "      <th>2019-05-30</th>\n",
       "      <td>-0.005815</td>\n",
       "      <td>0.003090</td>\n",
       "      <td>-0.001578</td>\n",
       "      <td>0.005187</td>\n",
       "      <td>0.016427</td>\n",
       "    </tr>\n",
       "    <tr>\n",
       "      <th>2019-05-31</th>\n",
       "      <td>-0.007555</td>\n",
       "      <td>-0.022587</td>\n",
       "      <td>-0.022711</td>\n",
       "      <td>-0.018116</td>\n",
       "      <td>0.000959</td>\n",
       "    </tr>\n",
       "    <tr>\n",
       "      <th>2019-06-03</th>\n",
       "      <td>0.007859</td>\n",
       "      <td>0.009454</td>\n",
       "      <td>-0.046409</td>\n",
       "      <td>-0.010110</td>\n",
       "      <td>0.002572</td>\n",
       "    </tr>\n",
       "    <tr>\n",
       "      <th>2019-06-04</th>\n",
       "      <td>0.007797</td>\n",
       "      <td>0.032258</td>\n",
       "      <td>0.021782</td>\n",
       "      <td>0.036584</td>\n",
       "      <td>0.004276</td>\n",
       "    </tr>\n",
       "    <tr>\n",
       "      <th>2019-06-05</th>\n",
       "      <td>-0.007737</td>\n",
       "      <td>-0.014113</td>\n",
       "      <td>0.005169</td>\n",
       "      <td>0.016143</td>\n",
       "      <td>0.002505</td>\n",
       "    </tr>\n",
       "  </tbody>\n",
       "</table>\n",
       "</div>"
      ],
      "text/plain": [
       "                  BP         F      AMZN      AAPL       MCD\n",
       "Date                                                        \n",
       "2019-05-30 -0.005815  0.003090 -0.001578  0.005187  0.016427\n",
       "2019-05-31 -0.007555 -0.022587 -0.022711 -0.018116  0.000959\n",
       "2019-06-03  0.007859  0.009454 -0.046409 -0.010110  0.002572\n",
       "2019-06-04  0.007797  0.032258  0.021782  0.036584  0.004276\n",
       "2019-06-05 -0.007737 -0.014113  0.005169  0.016143  0.002505"
      ]
     },
     "execution_count": 22,
     "metadata": {},
     "output_type": "execute_result"
    }
   ],
   "source": [
    "#Creating our daily returns table\n",
    "returns = (portfolio_data / portfolio_data.shift(1)) - 1\n",
    "returns.tail()"
   ]
  },
  {
   "cell_type": "code",
   "execution_count": 23,
   "metadata": {},
   "outputs": [],
   "source": [
    "#Considering each stock wights 1/5 of our total portfolio, we create a numpy array with respective consideration\n",
    "\n",
    "weights = np.array([0.2, 0.2, 0.2, 0.2, 0.2])\n",
    "\n",
    "#If you desire to calculate different weights, you can also do it this way, just remember the weights should add 1 in total"
   ]
  },
  {
   "cell_type": "code",
   "execution_count": 25,
   "metadata": {},
   "outputs": [
    {
     "data": {
      "text/plain": [
       "BP      0.064054\n",
       "F       0.061614\n",
       "AMZN    0.287880\n",
       "AAPL    0.303043\n",
       "MCD     0.134049\n",
       "dtype: float64"
      ]
     },
     "execution_count": 25,
     "metadata": {},
     "output_type": "execute_result"
    }
   ],
   "source": [
    "#Obtaining average annual returns\n",
    "\n",
    "annual_returns = returns.mean() * 250 #Trading days in a year\n",
    "annual_returns"
   ]
  },
  {
   "cell_type": "code",
   "execution_count": 28,
   "metadata": {},
   "outputs": [
    {
     "data": {
      "text/plain": [
       "0.17012793209830107"
      ]
     },
     "execution_count": 28,
     "metadata": {},
     "output_type": "execute_result"
    }
   ],
   "source": [
    "#Calculating our portfolio rate of return by using the numpy's .dot method, that allow us to calculate matrices prducts right away\n",
    "\n",
    "ROR = np.dot(annual_returns, weights)\n",
    "ROR"
   ]
  },
  {
   "cell_type": "code",
   "execution_count": 35,
   "metadata": {},
   "outputs": [
    {
     "data": {
      "text/plain": [
       "'The return of the given portfolio is 17.013%'"
      ]
     },
     "execution_count": 35,
     "metadata": {},
     "output_type": "execute_result"
    }
   ],
   "source": [
    "#Finally we give a propper presentation to our result\n",
    "\n",
    "ROR_portfolio = str(round(ROR, 5) * 100) + '%'\n",
    "'The return of the given portfolio is ' + ROR_portfolio"
   ]
  }
 ],
 "metadata": {
  "kernelspec": {
   "display_name": "Python 3",
   "language": "python",
   "name": "python3"
  },
  "language_info": {
   "codemirror_mode": {
    "name": "ipython",
    "version": 3
   },
   "file_extension": ".py",
   "mimetype": "text/x-python",
   "name": "python",
   "nbconvert_exporter": "python",
   "pygments_lexer": "ipython3",
   "version": "3.7.3"
  }
 },
 "nbformat": 4,
 "nbformat_minor": 2
}
