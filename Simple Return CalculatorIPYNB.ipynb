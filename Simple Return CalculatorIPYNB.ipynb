{
 "cells": [
  {
   "cell_type": "code",
   "execution_count": 1,
   "metadata": {},
   "outputs": [],
   "source": [
    "import pandas as pd\n",
    "from pandas_datareader import data as wb\n",
    "\n",
    "MSFT_DATA = wb.DataReader('MSFT', 'yahoo', ('2000/1/1'))"
   ]
  },
  {
   "cell_type": "code",
   "execution_count": 2,
   "metadata": {},
   "outputs": [
    {
     "data": {
      "text/html": [
       "<div>\n",
       "<style scoped>\n",
       "    .dataframe tbody tr th:only-of-type {\n",
       "        vertical-align: middle;\n",
       "    }\n",
       "\n",
       "    .dataframe tbody tr th {\n",
       "        vertical-align: top;\n",
       "    }\n",
       "\n",
       "    .dataframe thead th {\n",
       "        text-align: right;\n",
       "    }\n",
       "</style>\n",
       "<table border=\"1\" class=\"dataframe\">\n",
       "  <thead>\n",
       "    <tr style=\"text-align: right;\">\n",
       "      <th></th>\n",
       "      <th>High</th>\n",
       "      <th>Low</th>\n",
       "      <th>Open</th>\n",
       "      <th>Close</th>\n",
       "      <th>Volume</th>\n",
       "      <th>Adj Close</th>\n",
       "    </tr>\n",
       "    <tr>\n",
       "      <th>Date</th>\n",
       "      <th></th>\n",
       "      <th></th>\n",
       "      <th></th>\n",
       "      <th></th>\n",
       "      <th></th>\n",
       "      <th></th>\n",
       "    </tr>\n",
       "  </thead>\n",
       "  <tbody>\n",
       "    <tr>\n",
       "      <th>2000-01-03</th>\n",
       "      <td>59.3125</td>\n",
       "      <td>56.00000</td>\n",
       "      <td>58.68750</td>\n",
       "      <td>58.28125</td>\n",
       "      <td>53228400.0</td>\n",
       "      <td>41.959995</td>\n",
       "    </tr>\n",
       "    <tr>\n",
       "      <th>2000-01-04</th>\n",
       "      <td>58.5625</td>\n",
       "      <td>56.12500</td>\n",
       "      <td>56.78125</td>\n",
       "      <td>56.31250</td>\n",
       "      <td>54119000.0</td>\n",
       "      <td>40.542572</td>\n",
       "    </tr>\n",
       "    <tr>\n",
       "      <th>2000-01-05</th>\n",
       "      <td>58.1875</td>\n",
       "      <td>54.68750</td>\n",
       "      <td>55.56250</td>\n",
       "      <td>56.90625</td>\n",
       "      <td>64059600.0</td>\n",
       "      <td>40.970074</td>\n",
       "    </tr>\n",
       "    <tr>\n",
       "      <th>2000-01-06</th>\n",
       "      <td>56.9375</td>\n",
       "      <td>54.18750</td>\n",
       "      <td>56.09375</td>\n",
       "      <td>55.00000</td>\n",
       "      <td>54976600.0</td>\n",
       "      <td>39.597641</td>\n",
       "    </tr>\n",
       "    <tr>\n",
       "      <th>2000-01-07</th>\n",
       "      <td>56.1250</td>\n",
       "      <td>53.65625</td>\n",
       "      <td>54.31250</td>\n",
       "      <td>55.71875</td>\n",
       "      <td>62013600.0</td>\n",
       "      <td>40.115097</td>\n",
       "    </tr>\n",
       "  </tbody>\n",
       "</table>\n",
       "</div>"
      ],
      "text/plain": [
       "               High       Low      Open     Close      Volume  Adj Close\n",
       "Date                                                                    \n",
       "2000-01-03  59.3125  56.00000  58.68750  58.28125  53228400.0  41.959995\n",
       "2000-01-04  58.5625  56.12500  56.78125  56.31250  54119000.0  40.542572\n",
       "2000-01-05  58.1875  54.68750  55.56250  56.90625  64059600.0  40.970074\n",
       "2000-01-06  56.9375  54.18750  56.09375  55.00000  54976600.0  39.597641\n",
       "2000-01-07  56.1250  53.65625  54.31250  55.71875  62013600.0  40.115097"
      ]
     },
     "execution_count": 2,
     "metadata": {},
     "output_type": "execute_result"
    }
   ],
   "source": [
    "MSFT_DATA.head()"
   ]
  },
  {
   "cell_type": "code",
   "execution_count": 3,
   "metadata": {},
   "outputs": [
    {
     "data": {
      "text/html": [
       "<div>\n",
       "<style scoped>\n",
       "    .dataframe tbody tr th:only-of-type {\n",
       "        vertical-align: middle;\n",
       "    }\n",
       "\n",
       "    .dataframe tbody tr th {\n",
       "        vertical-align: top;\n",
       "    }\n",
       "\n",
       "    .dataframe thead th {\n",
       "        text-align: right;\n",
       "    }\n",
       "</style>\n",
       "<table border=\"1\" class=\"dataframe\">\n",
       "  <thead>\n",
       "    <tr style=\"text-align: right;\">\n",
       "      <th></th>\n",
       "      <th>High</th>\n",
       "      <th>Low</th>\n",
       "      <th>Open</th>\n",
       "      <th>Close</th>\n",
       "      <th>Volume</th>\n",
       "      <th>Adj Close</th>\n",
       "    </tr>\n",
       "    <tr>\n",
       "      <th>Date</th>\n",
       "      <th></th>\n",
       "      <th></th>\n",
       "      <th></th>\n",
       "      <th></th>\n",
       "      <th></th>\n",
       "      <th></th>\n",
       "    </tr>\n",
       "  </thead>\n",
       "  <tbody>\n",
       "    <tr>\n",
       "      <th>2019-05-22</th>\n",
       "      <td>128.240005</td>\n",
       "      <td>126.519997</td>\n",
       "      <td>126.620003</td>\n",
       "      <td>127.669998</td>\n",
       "      <td>15396500.0</td>\n",
       "      <td>127.669998</td>\n",
       "    </tr>\n",
       "    <tr>\n",
       "      <th>2019-05-23</th>\n",
       "      <td>126.290001</td>\n",
       "      <td>124.739998</td>\n",
       "      <td>126.199997</td>\n",
       "      <td>126.180000</td>\n",
       "      <td>23603800.0</td>\n",
       "      <td>126.180000</td>\n",
       "    </tr>\n",
       "    <tr>\n",
       "      <th>2019-05-24</th>\n",
       "      <td>127.419998</td>\n",
       "      <td>125.970001</td>\n",
       "      <td>126.910004</td>\n",
       "      <td>126.239998</td>\n",
       "      <td>14123400.0</td>\n",
       "      <td>126.239998</td>\n",
       "    </tr>\n",
       "    <tr>\n",
       "      <th>2019-05-28</th>\n",
       "      <td>128.000000</td>\n",
       "      <td>126.050003</td>\n",
       "      <td>126.980003</td>\n",
       "      <td>126.160004</td>\n",
       "      <td>23128400.0</td>\n",
       "      <td>126.160004</td>\n",
       "    </tr>\n",
       "    <tr>\n",
       "      <th>2019-05-29</th>\n",
       "      <td>125.389999</td>\n",
       "      <td>124.040001</td>\n",
       "      <td>125.379997</td>\n",
       "      <td>124.940002</td>\n",
       "      <td>22753900.0</td>\n",
       "      <td>124.940002</td>\n",
       "    </tr>\n",
       "  </tbody>\n",
       "</table>\n",
       "</div>"
      ],
      "text/plain": [
       "                  High         Low        Open       Close      Volume  \\\n",
       "Date                                                                     \n",
       "2019-05-22  128.240005  126.519997  126.620003  127.669998  15396500.0   \n",
       "2019-05-23  126.290001  124.739998  126.199997  126.180000  23603800.0   \n",
       "2019-05-24  127.419998  125.970001  126.910004  126.239998  14123400.0   \n",
       "2019-05-28  128.000000  126.050003  126.980003  126.160004  23128400.0   \n",
       "2019-05-29  125.389999  124.040001  125.379997  124.940002  22753900.0   \n",
       "\n",
       "             Adj Close  \n",
       "Date                    \n",
       "2019-05-22  127.669998  \n",
       "2019-05-23  126.180000  \n",
       "2019-05-24  126.239998  \n",
       "2019-05-28  126.160004  \n",
       "2019-05-29  124.940002  "
      ]
     },
     "execution_count": 3,
     "metadata": {},
     "output_type": "execute_result"
    }
   ],
   "source": [
    "MSFT_DATA.tail()"
   ]
  },
  {
   "cell_type": "code",
   "execution_count": 4,
   "metadata": {},
   "outputs": [],
   "source": [
    "import matplotlib.pyplot as plt"
   ]
  },
  {
   "cell_type": "code",
   "execution_count": 5,
   "metadata": {},
   "outputs": [],
   "source": [
    "MSFT_DATA['Simple Rates Of Return'] = (MSFT_DATA['Adj Close']/MSFT_DATA['Adj Close'].shift(1)) - 1"
   ]
  },
  {
   "cell_type": "code",
   "execution_count": 6,
   "metadata": {},
   "outputs": [
    {
     "data": {
      "text/plain": [
       "Date\n",
       "2019-05-22    0.006068\n",
       "2019-05-23   -0.011671\n",
       "2019-05-24    0.000475\n",
       "2019-05-28   -0.000634\n",
       "2019-05-29   -0.009670\n",
       "Name: Simple Rates Of Return, dtype: float64"
      ]
     },
     "execution_count": 6,
     "metadata": {},
     "output_type": "execute_result"
    }
   ],
   "source": [
    "MSFT_DATA['Simple Rates Of Return'].tail()"
   ]
  },
  {
   "cell_type": "code",
   "execution_count": 7,
   "metadata": {},
   "outputs": [
    {
     "data": {
      "image/png": "[encoded data removed]",
      "text/plain": [
       "<Figure size 576x360 with 1 Axes>"
      ]
     },
     "metadata": {
      "needs_background": "light"
     },
     "output_type": "display_data"
    }
   ],
   "source": [
    "sror_msft = MSFT_DATA['Simple Rates Of Return'].plot(figsize=(8,5))"
   ]
  },
  {
   "cell_type": "code",
   "execution_count": 8,
   "metadata": {},
   "outputs": [],
   "source": [
    "average_r_d = MSFT_DATA['Simple Rates Of Return'].mean()"
   ]
  },
  {
   "cell_type": "code",
   "execution_count": 9,
   "metadata": {},
   "outputs": [
    {
     "data": {
      "text/plain": [
       "0.0004077893106273265"
      ]
     },
     "execution_count": 9,
     "metadata": {},
     "output_type": "execute_result"
    }
   ],
   "source": [
    "average_r_d"
   ]
  },
  {
   "cell_type": "code",
   "execution_count": 10,
   "metadata": {},
   "outputs": [
    {
     "data": {
      "text/plain": [
       "0.10194732765683164"
      ]
     },
     "execution_count": 10,
     "metadata": {},
     "output_type": "execute_result"
    }
   ],
   "source": [
    "average_r_a = MSFT_DATA['Simple Rates Of Return'].mean()*250 #250 trading days in a year\n",
    "average_r_a"
   ]
  },
  {
   "cell_type": "code",
   "execution_count": 11,
   "metadata": {},
   "outputs": [],
   "source": [
    "avg_r_a = str(round(average_r_a, 5)* 100) + '%'"
   ]
  },
  {
   "cell_type": "code",
   "execution_count": 12,
   "metadata": {},
   "outputs": [
    {
     "data": {
      "text/plain": [
       "'10.195%'"
      ]
     },
     "execution_count": 12,
     "metadata": {},
     "output_type": "execute_result"
    }
   ],
   "source": [
    "avg_r_a"
   ]
  }
 ],
 "metadata": {
  "kernelspec": {
   "display_name": "Python 3",
   "language": "python",
   "name": "python3"
  },
  "language_info": {
   "codemirror_mode": {
    "name": "ipython",
    "version": 3
   },
   "file_extension": ".py",
   "mimetype": "text/x-python",
   "name": "python",
   "nbconvert_exporter": "python",
   "pygments_lexer": "ipython3",
   "version": "3.7.3"
  }
 },
 "nbformat": 4,
 "nbformat_minor": 2
}
