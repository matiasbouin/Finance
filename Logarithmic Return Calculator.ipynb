{
 "cells": [
  {
   "cell_type": "code",
   "execution_count": 1,
   "metadata": {},
   "outputs": [
    {
     "data": {
      "text/html": [
       "<div>\n",
       "<style scoped>\n",
       "    .dataframe tbody tr th:only-of-type {\n",
       "        vertical-align: middle;\n",
       "    }\n",
       "\n",
       "    .dataframe tbody tr th {\n",
       "        vertical-align: top;\n",
       "    }\n",
       "\n",
       "    .dataframe thead th {\n",
       "        text-align: right;\n",
       "    }\n",
       "</style>\n",
       "<table border=\"1\" class=\"dataframe\">\n",
       "  <thead>\n",
       "    <tr style=\"text-align: right;\">\n",
       "      <th></th>\n",
       "      <th>High</th>\n",
       "      <th>Low</th>\n",
       "      <th>Open</th>\n",
       "      <th>Close</th>\n",
       "      <th>Volume</th>\n",
       "      <th>Adj Close</th>\n",
       "    </tr>\n",
       "    <tr>\n",
       "      <th>Date</th>\n",
       "      <th></th>\n",
       "      <th></th>\n",
       "      <th></th>\n",
       "      <th></th>\n",
       "      <th></th>\n",
       "      <th></th>\n",
       "    </tr>\n",
       "  </thead>\n",
       "  <tbody>\n",
       "    <tr>\n",
       "      <th>2019-05-28</th>\n",
       "      <td>128.000000</td>\n",
       "      <td>126.050003</td>\n",
       "      <td>126.980003</td>\n",
       "      <td>126.160004</td>\n",
       "      <td>23128400.0</td>\n",
       "      <td>126.160004</td>\n",
       "    </tr>\n",
       "    <tr>\n",
       "      <th>2019-05-29</th>\n",
       "      <td>125.389999</td>\n",
       "      <td>124.040001</td>\n",
       "      <td>125.379997</td>\n",
       "      <td>124.940002</td>\n",
       "      <td>22763100.0</td>\n",
       "      <td>124.940002</td>\n",
       "    </tr>\n",
       "    <tr>\n",
       "      <th>2019-05-30</th>\n",
       "      <td>125.760002</td>\n",
       "      <td>124.779999</td>\n",
       "      <td>125.260002</td>\n",
       "      <td>125.730003</td>\n",
       "      <td>16829600.0</td>\n",
       "      <td>125.730003</td>\n",
       "    </tr>\n",
       "    <tr>\n",
       "      <th>2019-05-31</th>\n",
       "      <td>124.620003</td>\n",
       "      <td>123.320000</td>\n",
       "      <td>124.230003</td>\n",
       "      <td>123.680000</td>\n",
       "      <td>26639500.0</td>\n",
       "      <td>123.680000</td>\n",
       "    </tr>\n",
       "    <tr>\n",
       "      <th>2019-06-03</th>\n",
       "      <td>124.360001</td>\n",
       "      <td>123.800003</td>\n",
       "      <td>123.849998</td>\n",
       "      <td>123.879997</td>\n",
       "      <td>1387793.0</td>\n",
       "      <td>123.879997</td>\n",
       "    </tr>\n",
       "  </tbody>\n",
       "</table>\n",
       "</div>"
      ],
      "text/plain": [
       "                  High         Low        Open       Close      Volume  \\\n",
       "Date                                                                     \n",
       "2019-05-28  128.000000  126.050003  126.980003  126.160004  23128400.0   \n",
       "2019-05-29  125.389999  124.040001  125.379997  124.940002  22763100.0   \n",
       "2019-05-30  125.760002  124.779999  125.260002  125.730003  16829600.0   \n",
       "2019-05-31  124.620003  123.320000  124.230003  123.680000  26639500.0   \n",
       "2019-06-03  124.360001  123.800003  123.849998  123.879997   1387793.0   \n",
       "\n",
       "             Adj Close  \n",
       "Date                    \n",
       "2019-05-28  126.160004  \n",
       "2019-05-29  124.940002  \n",
       "2019-05-30  125.730003  \n",
       "2019-05-31  123.680000  \n",
       "2019-06-03  123.879997  "
      ]
     },
     "execution_count": 1,
     "metadata": {},
     "output_type": "execute_result"
    }
   ],
   "source": [
    "import numpy as np\n",
    "from pandas_datareader import data as wb\n",
    "import matplotlib.pyplot as plt\n",
    "MSFT = wb.DataReader('MSFT', data_source='yahoo', start='2000-1-1')\n",
    "MSFT.tail()"
   ]
  },
  {
   "cell_type": "code",
   "execution_count": 2,
   "metadata": {},
   "outputs": [
    {
     "data": {
      "text/plain": [
       "Date\n",
       "2000-01-03         NaN\n",
       "2000-01-04   -0.034364\n",
       "2000-01-05    0.010489\n",
       "2000-01-06   -0.034072\n",
       "2000-01-07    0.012983\n",
       "Name: Adj Close, dtype: float64"
      ]
     },
     "execution_count": 2,
     "metadata": {},
     "output_type": "execute_result"
    }
   ],
   "source": [
    "#Calculating logaritmic rates of return and creating a new table with obtained values\n",
    "MSFTLOG = np.log(MSFT['Adj Close']/MSFT['Adj Close'].shift(1))\n",
    "MSFTLOG.head()"
   ]
  },
  {
   "cell_type": "code",
   "execution_count": 3,
   "metadata": {},
   "outputs": [
    {
     "data": {
      "text/plain": [
       "<matplotlib.axes._subplots.AxesSubplot at 0x98ef860>"
      ]
     },
     "execution_count": 3,
     "metadata": {},
     "output_type": "execute_result"
    },
    {
     "data": {
      "image/png": "[encoded data removed]",
      "text/plain": [
       "<Figure size 576x360 with 1 Axes>"
      ]
     },
     "metadata": {
      "needs_background": "light"
     },
     "output_type": "display_data"
    }
   ],
   "source": [
    "MSFTLOG.plot(figsize=(8,5))"
   ]
  },
  {
   "cell_type": "code",
   "execution_count": 4,
   "metadata": {},
   "outputs": [
    {
     "data": {
      "text/plain": [
       "0.00022170728284607008"
      ]
     },
     "execution_count": 4,
     "metadata": {},
     "output_type": "execute_result"
    }
   ],
   "source": [
    "DAILYMSFTLOG = MSFTLOG.mean()\n",
    "DAILYMSFTLOG"
   ]
  },
  {
   "cell_type": "code",
   "execution_count": 5,
   "metadata": {},
   "outputs": [
    {
     "data": {
      "text/plain": [
       "0.05542682071151752"
      ]
     },
     "execution_count": 5,
     "metadata": {},
     "output_type": "execute_result"
    }
   ],
   "source": [
    "ANUALLYMSFTLOG = MSFTLOG.mean() * 250\n",
    "ANUALLYMSFTLOG"
   ]
  },
  {
   "cell_type": "code",
   "execution_count": 11,
   "metadata": {},
   "outputs": [
    {
     "data": {
      "text/plain": [
       "\"MSFT's annually average rate of return is 5.543%\""
      ]
     },
     "execution_count": 11,
     "metadata": {},
     "output_type": "execute_result"
    }
   ],
   "source": [
    "AMLR = str(round(ANUALLYMSFTLOG, 5) * 100) + \"%\"\n",
    "\"MSFT's annually average rate of return is \" + AMLR"
   ]
  }
 ],
 "metadata": {
  "kernelspec": {
   "display_name": "Python 3",
   "language": "python",
   "name": "python3"
  },
  "language_info": {
   "codemirror_mode": {
    "name": "ipython",
    "version": 3
   },
   "file_extension": ".py",
   "mimetype": "text/x-python",
   "name": "python",
   "nbconvert_exporter": "python",
   "pygments_lexer": "ipython3",
   "version": "3.7.1"
  }
 },
 "nbformat": 4,
 "nbformat_minor": 2
}
